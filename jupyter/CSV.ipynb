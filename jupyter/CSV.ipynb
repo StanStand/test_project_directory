{
 "cells": [
  {
   "cell_type": "markdown",
   "id": "45f2a14f-922f-473f-b561-cee049a5c2f1",
   "metadata": {},
   "source": [
    "# CSV（Comma-Separated Values，逗號分隔值）是一種簡單的資料儲存格式，主要用來儲存表格形式的資料。每行代表一條記錄，記錄中的每個欄位由逗號分隔。CSV 檔案可以用於儲存和交換資料，並且可以被許多應用程式和資料庫系統支援。\n",
    "\n",
    "# CSV 的基本特徵\n",
    "行和列：每一行代表一條記錄，每一列代表記錄的不同欄位。\n",
    "分隔符：通常使用逗號作為欄位分隔符，但也可以使用其他字符，如分號（;）或制表符（Tab）。\n",
    "檔案擴展名：通常為 .csv。\n",
    "\n",
    "# 使用 Python 讀取和寫入 CSV\n",
    "Python 的 csv 模組和 pandas 庫是處理 CSV 檔案的常用工具。以下是一些基本範例。"
   ]
  },
  {
   "cell_type": "markdown",
   "id": "9e71a6f8-6d2c-40d7-8532-6acd12431536",
   "metadata": {},
   "source": [
    "# 使用 csv 模組 讀取 CSV 檔案"
   ]
  },
  {
   "cell_type": "code",
   "execution_count": null,
   "id": "e0cccec5-7efd-4f72-8dbe-1d72247b5d5f",
   "metadata": {},
   "outputs": [],
   "source": [
    "import csv\n",
    "\n",
    "# 打開 CSV 檔案\n",
    "with open('data.csv', mode='r', newline='') as file:\n",
    "    reader = csv.reader(file)\n",
    "    \n",
    "    # 讀取每一行\n",
    "    for row in reader:\n",
    "        print(row)\n"
   ]
  },
  {
   "cell_type": "markdown",
   "id": "1b8a5a0d-e6da-4d65-a882-cf2dd0661d9d",
   "metadata": {},
   "source": [
    "# 寫入 CSV 檔案"
   ]
  },
  {
   "cell_type": "code",
   "execution_count": null,
   "id": "b0752734-6b59-4db6-94a1-7257b633b8a0",
   "metadata": {},
   "outputs": [],
   "source": [
    "import csv\n",
    "\n",
    "# 資料\n",
    "data = [\n",
    "    ['name', 'age', 'city'],\n",
    "    ['Alice', 30, 'New York'],\n",
    "    ['Bob', 25, 'Los Angeles'],\n",
    "]\n",
    "\n",
    "# 寫入 CSV 檔案\n",
    "with open('output.csv', mode='w', newline='') as file:\n",
    "    writer = csv.writer(file)\n",
    "    writer.writerows(data)\n"
   ]
  },
  {
   "cell_type": "markdown",
   "id": "1541055a-d551-4268-82bc-dbe012fccf71",
   "metadata": {},
   "source": [
    "# 使用 pandas 庫\n",
    "pandas 是處理資料的強大工具，支持更高效的操作。"
   ]
  },
  {
   "cell_type": "markdown",
   "id": "079a3b6a-1bc3-40e4-a2d3-b9dd1b28ae0e",
   "metadata": {},
   "source": [
    "讀取 CSV 檔案"
   ]
  },
  {
   "cell_type": "code",
   "execution_count": null,
   "id": "b9e1b375-dd05-4167-87a5-175b4f66c9c4",
   "metadata": {},
   "outputs": [],
   "source": [
    "import pandas as pd\n",
    "\n",
    "# 讀取 CSV 檔案\n",
    "df = pd.read_csv('data.csv')\n",
    "\n",
    "# 顯示前幾行\n",
    "print(df.head())\n"
   ]
  },
  {
   "cell_type": "markdown",
   "id": "86383922-9df5-414d-b673-e8dcfe3ac567",
   "metadata": {},
   "source": [
    "寫入 CSV 檔案"
   ]
  },
  {
   "cell_type": "code",
   "execution_count": null,
   "id": "e57cbbd8-0ea0-4353-91be-d7ad2765fb9f",
   "metadata": {},
   "outputs": [],
   "source": [
    "import pandas as pd\n",
    "\n",
    "# 建立 DataFrame\n",
    "data = {\n",
    "    'name': ['Alice', 'Bob'],\n",
    "    'age': [30, 25],\n",
    "    'city': ['New York', 'Los Angeles']\n",
    "}\n",
    "df = pd.DataFrame(data)\n",
    "\n",
    "# 寫入 CSV 檔案\n",
    "df.to_csv('output.csv', index=False)\n"
   ]
  },
  {
   "cell_type": "markdown",
   "id": "16964426-20bd-4690-a57f-44532ecd9f20",
   "metadata": {},
   "source": [
    "常見操作\n",
    "篩選資料：可以使用條件來篩選 DataFrame 中的資料。\n",
    "資料清理：如處理缺失值、重複值等。\n",
    "合併資料：可以將多個 CSV 檔案合併成一個 DataFrame。"
   ]
  }
 ],
 "metadata": {
  "kernelspec": {
   "display_name": "Python 3 (ipykernel)",
   "language": "python",
   "name": "python3"
  },
  "language_info": {
   "codemirror_mode": {
    "name": "ipython",
    "version": 3
   },
   "file_extension": ".py",
   "mimetype": "text/x-python",
   "name": "python",
   "nbconvert_exporter": "python",
   "pygments_lexer": "ipython3",
   "version": "3.12.5"
  }
 },
 "nbformat": 4,
 "nbformat_minor": 5
}
