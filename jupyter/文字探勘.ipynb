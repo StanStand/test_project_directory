{
 "cells": [
  {
   "cell_type": "raw",
   "id": "f6e21c48-2754-4ea9-866d-8f750b581f4f",
   "metadata": {},
   "source": [
    "1. 文本預處理\n",
    "分詞（Tokenization）：將文本切分為詞彙或短語。\n",
    "詞性標注（POS Tagging）：標記每個詞的詞性（如動詞、名詞等）。\n",
    "去除停用詞（Removing Stop Words）：去除常見但無助於文本分析的詞（如 \"的\", \"是\"）。"
   ]
  },
  {
   "cell_type": "code",
   "execution_count": null,
   "id": "cc37ba2e-93d6-4155-86ef-4241f1621c6e",
   "metadata": {},
   "outputs": [],
   "source": [
    "import nltk\n",
    "nltk.download('punkt')\n",
    "nltk.download('stopwords')\n",
    "\n",
    "from nltk.tokenize import word_tokenize\n",
    "from nltk.corpus import stopwords\n",
    "\n",
    "text = \"這是一個文本範例。\"\n",
    "tokens = word_tokenize(text)\n",
    "stop_words = set(stopwords.words('chinese'))\n",
    "filtered_tokens = [w for w in tokens if w not in stop_words]\n",
    "\n",
    "print(filtered_tokens)\n"
   ]
  },
  {
   "cell_type": "raw",
   "id": "ad49078c-c0c2-4309-8e8b-02d4a0bce12f",
   "metadata": {},
   "source": [
    "2. 文本向量化\n",
    "Bag of Words：將文本轉換為詞頻矩陣。\n",
    "TF-IDF：計算詞頻-逆文件頻率來衡量詞的重要性。\n",
    "Word2Vec：將詞轉換為稠密向量，保留語意關係。"
   ]
  },
  {
   "cell_type": "code",
   "execution_count": null,
   "id": "3f595c78-773c-4341-975d-2dcd67a10e18",
   "metadata": {},
   "outputs": [],
   "source": [
    "from sklearn.feature_extraction.text import TfidfVectorizer\n",
    "\n",
    "corpus = [\"這是一個範例\", \"這是另一個範例\"]\n",
    "vectorizer = TfidfVectorizer()\n",
    "X = vectorizer.fit_transform(corpus)\n",
    "\n",
    "print(X.toarray())\n"
   ]
  },
  {
   "cell_type": "code",
   "execution_count": null,
   "id": "eff54056-b689-4d55-be5e-58fadb5e9eb4",
   "metadata": {},
   "outputs": [],
   "source": [
    "from gensim.models import Word2Vec\n",
    "\n",
    "sentences = [[\"這\", \"是\", \"一個\", \"範例\"], [\"這\", \"是\", \"另一個\", \"範例\"]]\n",
    "model = Word2Vec(sentences, vector_size=100, window=5, min_count=1, workers=4)\n",
    "\n",
    "# 取得詞向量\n",
    "print(model.wv['範例'])\n"
   ]
  }
 ],
 "metadata": {
  "kernelspec": {
   "display_name": "Python 3 (ipykernel)",
   "language": "python",
   "name": "python3"
  },
  "language_info": {
   "codemirror_mode": {
    "name": "ipython",
    "version": 3
   },
   "file_extension": ".py",
   "mimetype": "text/x-python",
   "name": "python",
   "nbconvert_exporter": "python",
   "pygments_lexer": "ipython3",
   "version": "3.12.5"
  }
 },
 "nbformat": 4,
 "nbformat_minor": 5
}
