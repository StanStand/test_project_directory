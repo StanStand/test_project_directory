{
 "cells": [
  {
   "cell_type": "markdown",
   "id": "d471295a-446f-477d-8b16-dec0ea73170e",
   "metadata": {},
   "source": [
    "# OLLAMA: API (LLM)"
   ]
  },
  {
   "cell_type": "markdown",
   "id": "bff44b3a-2867-4629-9ab0-5f3438797e8d",
   "metadata": {},
   "source": [
    "首先，你需要獲取 OLLAMA API 的密鑰並安裝相關 Python 套件。假設 OLLAMA 提供 RESTful API，可以使用 requests 來與其進行交互。"
   ]
  },
  {
   "cell_type": "raw",
   "id": "163c6767-582f-4e5e-accf-782cff629cc5",
   "metadata": {},
   "source": [
    "安裝 requests："
   ]
  },
  {
   "cell_type": "code",
   "execution_count": null,
   "id": "1dd2801f-13bd-4435-98ea-967240486f1f",
   "metadata": {},
   "outputs": [],
   "source": [
    "pip install requests"
   ]
  },
  {
   "cell_type": "raw",
   "id": "abe0d609-ac0d-44ae-9203-39de54fa09e4",
   "metadata": {},
   "source": [
    "2. 基本 API 呼叫\n",
    "以下是 OLLAMA API 呼叫的基本範例，根據官方文檔，請替換 API_KEY 和 ENDPOINT_URL。"
   ]
  },
  {
   "cell_type": "code",
   "execution_count": null,
   "id": "7797f068-d2af-467c-9e89-fc82a2b1b879",
   "metadata": {},
   "outputs": [],
   "source": [
    "import requests\n",
    "\n",
    "# API 憑證和端點\n",
    "API_KEY = 'your_api_key'\n",
    "ENDPOINT_URL = 'https://api.ollama.ai/v1/classify'\n",
    "\n",
    "# 請求標頭\n",
    "headers = {\n",
    "    'Authorization': f'Bearer {API_KEY}',\n",
    "    'Content-Type': 'application/json'\n",
    "}\n",
    "\n",
    "# 發送到 API 的數據\n",
    "data = {\n",
    "    \"text\": \"這是一個範例文本，涉及 NPS 的數據分析。\"\n",
    "}\n",
    "\n",
    "# 發送請求\n",
    "response = requests.post(ENDPOINT_URL, headers=headers, json=data)\n",
    "\n",
    "# 取得結果\n",
    "result = response.json()\n",
    "print(result)\n"
   ]
  },
  {
   "cell_type": "markdown",
   "id": "3b6123d9-632d-43a6-a6f3-8d649c9dfd98",
   "metadata": {},
   "source": [
    "3. 自動化數據處理與分類"
   ]
  },
  {
   "cell_type": "raw",
   "id": "56ee2522-406b-4088-850a-cb4ad1bd92a0",
   "metadata": {},
   "source": [
    "步驟：\n",
    "從 NPS 和 Myasus app 取得數據，這些數據可能來自 CSV、JSON 或 SQL 資料庫。\n",
    "將數據整理並清理，然後使用 OLLAMA API 進行分類與關鍵字提取。"
   ]
  },
  {
   "cell_type": "raw",
   "id": "6ca21d38-cacb-4e13-9f88-a48c96f3d8e6",
   "metadata": {},
   "source": [
    "範例：讀取 CSV 檔案，進行數據分類與關鍵字提取。"
   ]
  },
  {
   "cell_type": "code",
   "execution_count": null,
   "id": "f8685cd5-b27a-4ef7-b459-cc3ce1ef8e36",
   "metadata": {},
   "outputs": [],
   "source": [
    "import pandas as pd\n",
    "import requests\n",
    "\n",
    "# 讀取 NPS 或 Myasus app 的數據\n",
    "df = pd.read_csv('nps_data.csv')\n",
    "\n",
    "# 定義分類和關鍵字提取函數\n",
    "def classify_text(text):\n",
    "    data = {\"text\": text}\n",
    "    response = requests.post(ENDPOINT_URL, headers=headers, json=data)\n",
    "    return response.json()\n",
    "\n",
    "# 遍歷數據，將每個評論進行分類與關鍵字提取\n",
    "df['classification'] = df['comment'].apply(classify_text)\n",
    "\n",
    "# 儲存結果到新的 CSV 檔案\n",
    "df.to_csv('classified_nps_data.csv', index=False)\n"
   ]
  },
  {
   "cell_type": "markdown",
   "id": "5d00ed8b-7b30-4e00-8bcc-9ba2b95f24cd",
   "metadata": {},
   "source": [
    "4. 提取關鍵字"
   ]
  },
  {
   "cell_type": "raw",
   "id": "54c3c96f-5c58-41ce-bbd1-92a64ccd538c",
   "metadata": {},
   "source": [
    "要提取 NPS 評論或 Myasus app 使用者反饋中的關鍵字，可以將其與自然語言處理技術結合，如 TF-IDF 或 GPT 模型進行分析。"
   ]
  },
  {
   "cell_type": "raw",
   "id": "18dac9a8-abb5-420b-ba08-8ac032395692",
   "metadata": {},
   "source": [
    "範例：提取評論中的關鍵字"
   ]
  },
  {
   "cell_type": "code",
   "execution_count": null,
   "id": "09372a64-dddc-4125-9efd-d10ebb06ff0d",
   "metadata": {},
   "outputs": [],
   "source": [
    "from sklearn.feature_extraction.text import TfidfVectorizer\n",
    "\n",
    "# 使用 TF-IDF 進行關鍵字提取\n",
    "corpus = df['comment'].tolist()  # 將評論轉換為列表\n",
    "vectorizer = TfidfVectorizer(max_features=10)  # 設定提取 10 個最重要的詞\n",
    "X = vectorizer.fit_transform(corpus)\n",
    "\n",
    "# 顯示關鍵字\n",
    "keywords = vectorizer.get_feature_names_out()\n",
    "print(\"關鍵字提取結果：\", keywords)\n"
   ]
  },
  {
   "cell_type": "markdown",
   "id": "2a6e8858-7d85-4728-b606-3757c44c9195",
   "metadata": {},
   "source": [
    "5. 完整的自動化流程"
   ]
  },
  {
   "cell_type": "raw",
   "id": "fae8c1d8-f09f-42b0-ba09-e91a09e5f363",
   "metadata": {},
   "source": [
    "資料讀取與清理：從不同的數據來源（如 Excel、CSV、MySQL）中取得資料，清理後進行分類和分析。\n",
    "數據分類：使用 OLLAMA API 對評論、反饋進行自動分類。\n",
    "關鍵字提取：結合 API 或 NLP 模型，提取關鍵詞以便深入分析。"
   ]
  },
  {
   "cell_type": "markdown",
   "id": "41a41f3a-7a97-40be-943f-3eb15a7d4b69",
   "metadata": {},
   "source": [
    "6. 結合關鍵字與分類分析\n",
    "將提取出的關鍵字與分類結果進行可視化，讓你可以更直觀地分析評論的情緒或主題。"
   ]
  },
  {
   "cell_type": "code",
   "execution_count": null,
   "id": "c4b1d62e-20b0-4ea3-bdbe-69273587f2e1",
   "metadata": {},
   "outputs": [],
   "source": [
    "import matplotlib.pyplot as plt\n",
    "import seaborn as sns\n",
    "\n",
    "# 繪製分類結果的長條圖\n",
    "sns.countplot(data=df, x='classification')\n",
    "plt.title('NPS 評論分類結果')\n",
    "plt.show()\n",
    "\n",
    "# 繪製關鍵字的詞雲或其他視覺化\n"
   ]
  },
  {
   "cell_type": "markdown",
   "id": "61ffd02d-d328-4b3c-9b28-5c2cef921779",
   "metadata": {},
   "source": [
    "7. 自動化腳本的排程"
   ]
  },
  {
   "cell_type": "raw",
   "id": "1b940a6e-abbc-4820-9cf9-761fce9ac58a",
   "metadata": {},
   "source": [
    "使用 Python 排程工具如 schedule 來自動執行這個分類與分析腳本，每天、每週或根據需要自動運行。"
   ]
  },
  {
   "cell_type": "code",
   "execution_count": null,
   "id": "cc7788c6-d234-48d9-86a5-7c564d3699fa",
   "metadata": {},
   "outputs": [],
   "source": [
    "import schedule\n",
    "import time\n",
    "\n",
    "def job():\n",
    "    # 執行上面定義的自動化分類與分析\n",
    "    df = pd.read_csv('nps_data.csv')\n",
    "    df['classification'] = df['comment'].apply(classify_text)\n",
    "    df.to_csv('classified_nps_data.csv', index=False)\n",
    "\n",
    "# 每天執行一次\n",
    "schedule.every().day.at(\"09:00\").do(job)\n",
    "\n",
    "while True:\n",
    "    schedule.run_pending()\n",
    "    time.sleep(1)\n"
   ]
  }
 ],
 "metadata": {
  "kernelspec": {
   "display_name": "Python 3 (ipykernel)",
   "language": "python",
   "name": "python3"
  },
  "language_info": {
   "codemirror_mode": {
    "name": "ipython",
    "version": 3
   },
   "file_extension": ".py",
   "mimetype": "text/x-python",
   "name": "python",
   "nbconvert_exporter": "python",
   "pygments_lexer": "ipython3",
   "version": "3.12.5"
  }
 },
 "nbformat": 4,
 "nbformat_minor": 5
}
