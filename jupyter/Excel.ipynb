{
 "cells": [
  {
   "cell_type": "markdown",
   "id": "a976a8a0-9ce1-42da-b451-798bff002c8e",
   "metadata": {},
   "source": [
    "Excel 是一種廣泛使用的電子表格軟體，適合處理和分析資料。Excel 文件通常具有 .xlsx 或 .xls 擴展名，並且支援多種數據處理功能，如計算、分析和視覺化。使用 Python 操作 Excel 檔案通常會用到 pandas 和 openpyxl 等庫。\n",
    "\n",
    "# Excel 的基本特徵\n",
    "工作表（Sheet）：Excel 文件可以包含多個工作表，每個工作表都是一個由行和列組成的網格。\n",
    "單元格（Cell）：工作表中的每個格子都是一個單元格，用於儲存數據。\n",
    "公式和函數：可以在單元格中使用公式和函數來進行計算。\n",
    "圖表和視覺化：支援創建各種圖表，如折線圖、柱狀圖、餅圖等。\n",
    "# 使用 Python 操作 Excel\n",
    "Python 提供了多個庫來讀取和寫入 Excel 檔案，其中最常用的有 pandas 和 openpyxl。\n",
    "\n",
    "# 使用 pandas 庫\n",
    "pandas 是處理資料的強大工具，支持讀取和寫入 Excel 檔案。"
   ]
  },
  {
   "cell_type": "markdown",
   "id": "e7ad3064-68e1-4ef4-b14f-d5f8bcdcd756",
   "metadata": {},
   "source": [
    "# 讀取 Excel 檔案"
   ]
  },
  {
   "cell_type": "code",
   "execution_count": null,
   "id": "5f80cbc9-fc53-44ef-9219-1adb97772e68",
   "metadata": {},
   "outputs": [],
   "source": [
    "import pandas as pd\n",
    "\n",
    "# 讀取 Excel 檔案，指定工作表名稱\n",
    "df = pd.read_excel('data.xlsx', sheet_name='Sheet1')\n",
    "\n",
    "# 顯示前幾行\n",
    "print(df.head())\n"
   ]
  },
  {
   "cell_type": "markdown",
   "id": "fb9c3ad0-e6ad-4b38-a16c-41a5501f5a35",
   "metadata": {},
   "source": [
    "# 寫入 Excel 檔案"
   ]
  },
  {
   "cell_type": "code",
   "execution_count": null,
   "id": "ad10907d-fd49-41f6-a262-42ab6c115576",
   "metadata": {},
   "outputs": [],
   "source": [
    "import pandas as pd\n",
    "\n",
    "# 創建 DataFrame\n",
    "data = {\n",
    "    'Name': ['Alice', 'Bob'],\n",
    "    'Age': [30, 25],\n",
    "    'City': ['New York', 'Los Angeles']\n",
    "}\n",
    "df = pd.DataFrame(data)\n",
    "\n",
    "# 寫入 Excel 檔案\n",
    "df.to_excel('output.xlsx', index=False, sheet_name='Sheet1')\n"
   ]
  },
  {
   "cell_type": "markdown",
   "id": "266029a0-68f9-4c95-842e-889db73c6d9e",
   "metadata": {},
   "source": [
    "使用 openpyxl 庫\n",
    "openpyxl 是專門用來處理 Excel 2010 文件（.xlsx）的庫，支持更細緻的操作。"
   ]
  },
  {
   "cell_type": "markdown",
   "id": "8f8a68f1-d8b1-4ce0-b976-a456b2a70dbc",
   "metadata": {},
   "source": [
    "# 讀取 Excel 檔案"
   ]
  },
  {
   "cell_type": "code",
   "execution_count": null,
   "id": "af278846-6449-40be-b305-3cba4018fbd1",
   "metadata": {},
   "outputs": [],
   "source": [
    "from openpyxl import load_workbook\n",
    "\n",
    "# 讀取 Excel 檔案\n",
    "wb = load_workbook('data.xlsx')\n",
    "sheet = wb['Sheet1']\n",
    "\n",
    "# 讀取指定單元格的值\n",
    "value = sheet['A1'].value\n",
    "print(value)\n"
   ]
  },
  {
   "cell_type": "markdown",
   "id": "c9c89481-d12d-4b40-9fea-4905f8dd8442",
   "metadata": {},
   "source": [
    "# 寫入 Excel 檔案"
   ]
  },
  {
   "cell_type": "code",
   "execution_count": null,
   "id": "3d63d6d6-b130-4fb6-adf2-a95da8fc5b07",
   "metadata": {},
   "outputs": [],
   "source": [
    "from openpyxl import Workbook\n",
    "\n",
    "# 創建工作簿和工作表\n",
    "wb = Workbook()\n",
    "sheet = wb.active\n",
    "sheet.title = 'Sheet1'\n",
    "\n",
    "# 寫入資料\n",
    "sheet['A1'] = 'Name'\n",
    "sheet['B1'] = 'Age'\n",
    "sheet['A2'] = 'Alice'\n",
    "sheet['B2'] = 30\n",
    "\n",
    "# 儲存檔案\n",
    "wb.save('output.xlsx')\n"
   ]
  },
  {
   "cell_type": "markdown",
   "id": "9b53e57a-e7e2-4746-a256-0b72cd66f987",
   "metadata": {},
   "source": [
    "# 常見操作\n",
    "\n",
    "資料清理和轉換：使用 pandas 進行資料清理、轉換和處理。\n",
    "\n",
    "圖表和格式化：openpyxl 支援圖表和單元格格式化，但 pandas 主要專注於資料處理。\n",
    "\n",
    "多工作表處理：pandas 和 openpyxl 都支持處理包含多個工作表的 Excel 文件。"
   ]
  }
 ],
 "metadata": {
  "kernelspec": {
   "display_name": "Python 3 (ipykernel)",
   "language": "python",
   "name": "python3"
  },
  "language_info": {
   "codemirror_mode": {
    "name": "ipython",
    "version": 3
   },
   "file_extension": ".py",
   "mimetype": "text/x-python",
   "name": "python",
   "nbconvert_exporter": "python",
   "pygments_lexer": "ipython3",
   "version": "3.12.5"
  }
 },
 "nbformat": 4,
 "nbformat_minor": 5
}
