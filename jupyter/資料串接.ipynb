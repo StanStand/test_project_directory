{
 "cells": [
  {
   "cell_type": "markdown",
   "id": "84c495dc-650e-40b0-9d98-c88462166773",
   "metadata": {},
   "source": [
    "# 資料庫串接"
   ]
  },
  {
   "cell_type": "markdown",
   "id": "43d5603d-6584-438a-9124-1d237936f556",
   "metadata": {},
   "source": [
    "## 1. MSSQL（只讀）\n",
    "可以使用 pyodbc 或 pymssql 庫來連接 MSSQL 資料庫。"
   ]
  },
  {
   "cell_type": "markdown",
   "id": "3785dea2-55c5-489a-a06c-159163d89e84",
   "metadata": {},
   "source": [
    "## 使用 pyodbc 讀取 MSSQL"
   ]
  },
  {
   "cell_type": "code",
   "execution_count": null,
   "id": "53e12730-0e59-4377-8b6d-42798c8f6673",
   "metadata": {},
   "outputs": [],
   "source": [
    "import pyodbc\n",
    "\n",
    "# 設定資料庫連線\n",
    "conn_str = 'DRIVER={ODBC Driver 17 for SQL Server};SERVER=your_server;DATABASE=your_database;UID=your_username;PWD=your_password'\n",
    "conn = pyodbc.connect(conn_str)\n",
    "cursor = conn.cursor()\n",
    "\n",
    "# 執行查詢\n",
    "cursor.execute('SELECT * FROM your_table')\n",
    "rows = cursor.fetchall()\n",
    "\n",
    "# 顯示結果\n",
    "for row in rows:\n",
    "    print(row)\n",
    "\n",
    "# 關閉連線\n",
    "conn.close()\n"
   ]
  },
  {
   "cell_type": "markdown",
   "id": "67b249ea-bbfb-491a-91af-121369000959",
   "metadata": {},
   "source": [
    "## MySQL（所有測試實驗）\n",
    "可以使用 mysql-connector-python 或 PyMySQL 庫來連接 MySQL。\n",
    "\n",
    "使用 mysql-connector-python 讀取 MySQL"
   ]
  },
  {
   "cell_type": "code",
   "execution_count": null,
   "id": "bbb573b8-e35a-4e98-bcae-7d50e06b7daf",
   "metadata": {},
   "outputs": [],
   "source": [
    "import mysql.connector\n",
    "\n",
    "# 設定資料庫連線\n",
    "conn = mysql.connector.connect(\n",
    "    host='your_host',\n",
    "    user='your_username',\n",
    "    password='your_password',\n",
    "    database='your_database'\n",
    ")\n",
    "cursor = conn.cursor()\n",
    "\n",
    "# 執行查詢\n",
    "cursor.execute('SELECT * FROM your_table')\n",
    "rows = cursor.fetchall()\n",
    "\n",
    "# 顯示結果\n",
    "for row in rows:\n",
    "    print(row)\n",
    "\n",
    "# 關閉連線\n",
    "conn.close()\n"
   ]
  },
  {
   "cell_type": "markdown",
   "id": "6c857dbf-59d2-4ca4-88f1-dff92e849d7f",
   "metadata": {},
   "source": [
    "從 Excel、Word、CSV 和 TXT 讀寫"
   ]
  },
  {
   "cell_type": "markdown",
   "id": "fd40da55-664a-4e86-beff-a43e2efdd0c4",
   "metadata": {},
   "source": [
    "## 1. Excel\n",
    "讀取和寫入 Excel 檔案（如之前所述）"
   ]
  },
  {
   "cell_type": "code",
   "execution_count": null,
   "id": "11fc647e-9bcd-4748-9c92-6f8958ecc5ee",
   "metadata": {},
   "outputs": [],
   "source": [
    "import pandas as pd\n",
    "\n",
    "# 讀取 Excel 檔案\n",
    "df = pd.read_excel('data.xlsx', sheet_name='Sheet1')\n",
    "\n",
    "# 寫入 Excel 檔案\n",
    "df.to_excel('output.xlsx', index=False, sheet_name='Sheet1')\n"
   ]
  },
  {
   "cell_type": "markdown",
   "id": "9600f3c9-2fdd-4534-9483-d57846b750e7",
   "metadata": {},
   "source": [
    "## 2. Word\n",
    "### 讀取 Word 檔案\n",
    "\n",
    "可以使用 python-docx 庫來讀取和寫入 Word 檔案。"
   ]
  },
  {
   "cell_type": "code",
   "execution_count": null,
   "id": "07108fbf-16f6-4e66-a1f8-ec0e5cf617db",
   "metadata": {},
   "outputs": [],
   "source": [
    "from docx import Document\n",
    "\n",
    "# 讀取 Word 檔案\n",
    "doc = Document('document.docx')\n",
    "for para in doc.paragraphs:\n",
    "    print(para.text)\n"
   ]
  },
  {
   "cell_type": "markdown",
   "id": "2818b7dc-061e-40e8-87ed-9307f925f1c2",
   "metadata": {},
   "source": [
    "### 寫入 Word 檔案"
   ]
  },
  {
   "cell_type": "code",
   "execution_count": null,
   "id": "5a8ba8ce-6e77-4ff4-ad7d-819cc83a71fb",
   "metadata": {},
   "outputs": [],
   "source": [
    "from docx import Document\n",
    "\n",
    "# 建立新的 Word 文件\n",
    "doc = Document()\n",
    "doc.add_heading('Document Title', 0)\n",
    "\n",
    "# 添加段落\n",
    "doc.add_paragraph('A plain paragraph having some text.')\n",
    "\n",
    "# 儲存文件\n",
    "doc.save('new_document.docx')\n"
   ]
  },
  {
   "cell_type": "markdown",
   "id": "a6c190b1-2b73-4e24-9d17-74d6949965ef",
   "metadata": {},
   "source": [
    "## 3. CSV\n",
    "讀取和寫入 CSV 檔案（如之前所述）"
   ]
  },
  {
   "cell_type": "code",
   "execution_count": null,
   "id": "23e28abb-924d-4723-88e9-662b6b428a14",
   "metadata": {},
   "outputs": [],
   "source": [
    "import csv\n",
    "\n",
    "# 讀取 CSV 檔案\n",
    "with open('data.csv', mode='r') as file:\n",
    "    reader = csv.reader(file)\n",
    "    for row in reader:\n",
    "        print(row)\n",
    "\n",
    "# 寫入 CSV 檔案\n",
    "data = [['name', 'age'], ['Alice', 30], ['Bob', 25]]\n",
    "with open('output.csv', mode='w', newline='') as file:\n",
    "    writer = csv.writer(file)\n",
    "    writer.writerows(data)"
   ]
  },
  {
   "cell_type": "markdown",
   "id": "976fd657-3b4d-4568-8744-cd22c5a1b067",
   "metadata": {},
   "source": [
    "## 4. TXT\n",
    "讀取和寫入 TXT 檔案"
   ]
  },
  {
   "cell_type": "code",
   "execution_count": null,
   "id": "a7a9a504-4b2c-4a57-ae14-0d9450922c2a",
   "metadata": {},
   "outputs": [],
   "source": [
    "# 讀取 TXT 檔案\n",
    "with open('data.txt', 'r') as file:\n",
    "    content = file.read()\n",
    "    print(content)\n",
    "\n",
    "# 寫入 TXT 檔案\n",
    "with open('output.txt', 'w') as file:\n",
    "    file.write('This is a line of text.\\n')\n",
    "    file.write('This is another line of text.')\n"
   ]
  }
 ],
 "metadata": {
  "kernelspec": {
   "display_name": "Python 3 (ipykernel)",
   "language": "python",
   "name": "python3"
  },
  "language_info": {
   "codemirror_mode": {
    "name": "ipython",
    "version": 3
   },
   "file_extension": ".py",
   "mimetype": "text/x-python",
   "name": "python",
   "nbconvert_exporter": "python",
   "pygments_lexer": "ipython3",
   "version": "3.12.5"
  }
 },
 "nbformat": 4,
 "nbformat_minor": 5
}
