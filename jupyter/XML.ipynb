{
 "cells": [
  {
   "cell_type": "markdown",
   "id": "b023e7f5-9de6-429e-9051-ec2b3e3be21d",
   "metadata": {},
   "source": [
    "# XML（eXtensible Markup Language，可擴展標記語言）是一種用於儲存和傳輸資料的標記語言。它是一種標準化的文本格式，用於表示結構化資料。XML 用標記來定義資料的結構和內容，並支持自定義標記，以便靈活地表示各種資料。\n",
    "\n",
    "# XML 的基本特徵\n",
    "標記：使用標籤（Tags）來描述數據，每個標籤都有開始標籤和結束標籤（如 <name> Alice </name>）。\n",
    "結構：XML 資料由嵌套的標籤組成，形成樹狀結構。\n",
    "屬性：標籤可以包含屬性，用於描述標籤的附加信息（如 <person age=\"30\">Alice</person>）。\n",
    "聲明：XML 檔案通常以 XML 聲明開頭，用於指定 XML 的版本和編碼（如 <?xml version=\"1.0\" encoding=\"UTF-8\"?>）。"
   ]
  },
  {
   "cell_type": "markdown",
   "id": "b726b60e-3e6a-4432-bf51-a7cafc36ba42",
   "metadata": {},
   "source": [
    "# XML 格式示例"
   ]
  },
  {
   "cell_type": "code",
   "execution_count": null,
   "id": "8555fff2-ab4c-4820-883c-537b0aab0812",
   "metadata": {},
   "outputs": [],
   "source": [
    "<?xml version=\"1.0\" encoding=\"UTF-8\"?>\n",
    "<person>\n",
    "    <name>Alice</name>\n",
    "    <age>30</age>\n",
    "    <is_student>false</is_student>\n",
    "    <courses>\n",
    "        <course>Math</course>\n",
    "        <course>Science</course>\n",
    "    </courses>\n",
    "    <address>\n",
    "        <street>123 Main St</street>\n",
    "        <city>New York</city>\n",
    "    </address>\n",
    "</person>\n"
   ]
  },
  {
   "cell_type": "markdown",
   "id": "b90ccee1-394a-4038-b4b8-3d95e97672c1",
   "metadata": {},
   "source": [
    "# 使用 Python 讀取和寫入 XML\n",
    "Python 提供了多種庫來處理 XML，常用的有 xml.etree.ElementTree 和 lxml。\n",
    "\n",
    "使用 xml.etree.ElementTree 庫"
   ]
  },
  {
   "cell_type": "markdown",
   "id": "d444ea68-3dbb-4109-a375-2ea7177ee2d0",
   "metadata": {},
   "source": [
    "讀取 XML 檔案"
   ]
  },
  {
   "cell_type": "code",
   "execution_count": null,
   "id": "bc3c10f0-8274-4602-bb53-fa217dd63e95",
   "metadata": {},
   "outputs": [],
   "source": [
    "import xml.etree.ElementTree as ET\n",
    "\n",
    "# 讀取 XML 檔案\n",
    "tree = ET.parse('data.xml')\n",
    "root = tree.getroot()\n",
    "\n",
    "# 遍歷 XML 樹\n",
    "for child in root:\n",
    "    print(child.tag, child.attrib, child.text)\n"
   ]
  },
  {
   "cell_type": "markdown",
   "id": "d9ec8af0-4942-467a-9c54-e6e87136ff93",
   "metadata": {},
   "source": [
    "寫入 XML 檔案"
   ]
  },
  {
   "cell_type": "code",
   "execution_count": null,
   "id": "9db88660-5033-4006-a2fe-0f537b54f3e4",
   "metadata": {},
   "outputs": [],
   "source": [
    "import xml.etree.ElementTree as ET\n",
    "\n",
    "# 建立 XML 結構\n",
    "data = ET.Element('person')\n",
    "name = ET.SubElement(data, 'name')\n",
    "name.text = 'Alice'\n",
    "age = ET.SubElement(data, 'age')\n",
    "age.text = '30'\n",
    "\n",
    "# 將結構寫入 XML 檔案\n",
    "tree = ET.ElementTree(data)\n",
    "tree.write('output.xml', encoding='utf-8', xml_declaration=True)\n"
   ]
  },
  {
   "cell_type": "markdown",
   "id": "4a5856ac-b06e-4ce2-8e19-4c43f2e02404",
   "metadata": {},
   "source": [
    "# 使用 lxml 庫\n",
    "lxml 提供了更強大的功能來處理 XML，包括支持 XPath 和 XSLT。"
   ]
  },
  {
   "cell_type": "markdown",
   "id": "55374b07-7cef-4615-9b48-385cf0604a81",
   "metadata": {},
   "source": [
    "讀取 XML 檔案"
   ]
  },
  {
   "cell_type": "code",
   "execution_count": null,
   "id": "8ddf042b-12d6-415a-8dbd-2fb040460e35",
   "metadata": {},
   "outputs": [],
   "source": [
    "from lxml import etree\n",
    "\n",
    "# 讀取 XML 檔案\n",
    "tree = etree.parse('data.xml')\n",
    "root = tree.getroot()\n",
    "\n",
    "# 使用 XPath 查詢\n",
    "name = root.find('.//name').text\n",
    "print(name)\n"
   ]
  },
  {
   "cell_type": "markdown",
   "id": "e1325296-a444-4698-9fdd-4138c12ce995",
   "metadata": {},
   "source": [
    "寫入 XML 檔案"
   ]
  },
  {
   "cell_type": "code",
   "execution_count": null,
   "id": "22eac892-1e4f-4b66-b014-305537d4f380",
   "metadata": {},
   "outputs": [],
   "source": [
    "from lxml import etree\n",
    "\n",
    "# 建立 XML 結構\n",
    "root = etree.Element('person')\n",
    "name = etree.SubElement(root, 'name')\n",
    "name.text = 'Alice'\n",
    "age = etree.SubElement(root, 'age')\n",
    "age.text = '30'\n",
    "\n",
    "# 將結構寫入 XML 檔案\n",
    "tree = etree.ElementTree(root)\n",
    "tree.write('output.xml', encoding='utf-8', xml_declaration=True)\n"
   ]
  },
  {
   "cell_type": "markdown",
   "id": "ff2476b6-eb5b-482e-9061-c60e9286be2d",
   "metadata": {},
   "source": [
    "常見操作\n",
    "解析 XML：使用解析器讀取 XML 文件，將其轉換為 Python 對象。\n",
    "創建和修改 XML：建立新的 XML 結構，或修改現有的 XML 結構。\n",
    "XPath 查詢：使用 XPath 表達式查詢和篩選 XML 資料。"
   ]
  }
 ],
 "metadata": {
  "kernelspec": {
   "display_name": "Python 3 (ipykernel)",
   "language": "python",
   "name": "python3"
  },
  "language_info": {
   "codemirror_mode": {
    "name": "ipython",
    "version": 3
   },
   "file_extension": ".py",
   "mimetype": "text/x-python",
   "name": "python",
   "nbconvert_exporter": "python",
   "pygments_lexer": "ipython3",
   "version": "3.12.5"
  }
 },
 "nbformat": 4,
 "nbformat_minor": 5
}
