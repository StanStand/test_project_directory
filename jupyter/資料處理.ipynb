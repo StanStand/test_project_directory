{
 "cells": [
  {
   "cell_type": "markdown",
   "id": "b2e265e7-9251-4359-95ca-519cd4d9656a",
   "metadata": {},
   "source": [
    "# 資料處理"
   ]
  },
  {
   "cell_type": "markdown",
   "id": "35fc7102-426b-43db-af75-04bed8b433fc",
   "metadata": {},
   "source": [
    "1.JSON 解析與文字格式處理"
   ]
  },
  {
   "cell_type": "raw",
   "id": "3ce6d071-17c7-4d7c-bec2-89763fcaaa2b",
   "metadata": {},
   "source": [
    "(1) 使用 json 模組解析 JSON 資料"
   ]
  },
  {
   "cell_type": "code",
   "execution_count": null,
   "id": "40e00b84-c427-47e2-9aee-998188ff6194",
   "metadata": {},
   "outputs": [],
   "source": [
    "import json\n",
    "\n",
    "# 讀取 JSON 檔案\n",
    "with open('data.json', 'r') as file:\n",
    "    data = json.load(file)\n",
    "\n",
    "# 輸出 JSON 內容\n",
    "print(data)\n",
    "\n",
    "# 解析後的資料可以直接操作，例如存取特定欄位\n",
    "print(data['name'])\n"
   ]
  },
  {
   "cell_type": "raw",
   "id": "70ddbbaf-9ba2-4bd3-8088-6bb507f7dd12",
   "metadata": {},
   "source": [
    "(2) 使用 Pandas 解析 JSON"
   ]
  },
  {
   "cell_type": "code",
   "execution_count": null,
   "id": "8dec76da-21ed-4483-9680-7475d415dbef",
   "metadata": {},
   "outputs": [],
   "source": [
    "import pandas as pd\n",
    "\n",
    "# 讀取 JSON 檔案並轉換為 DataFrame\n",
    "df = pd.read_json('data.json')\n",
    "\n",
    "# 檢視資料\n",
    "print(df.head())\n"
   ]
  },
  {
   "cell_type": "markdown",
   "id": "74274f16-d566-4223-9792-bc0d7460682b",
   "metadata": {},
   "source": [
    "2. Pandas 基本功能"
   ]
  },
  {
   "cell_type": "raw",
   "id": "0a4d41df-37db-4a33-be0b-37f3e8296d10",
   "metadata": {},
   "source": [
    "(1) Pandas Series\n",
    "Series 是一維的資料結構，可以用來表示一列或一行的資料。"
   ]
  },
  {
   "cell_type": "code",
   "execution_count": null,
   "id": "c70c3572-19f3-4729-b128-d1ec2c7a2da5",
   "metadata": {},
   "outputs": [],
   "source": [
    "import pandas as pd\n",
    "\n",
    "# 建立 Series\n",
    "s = pd.Series([1, 2, 3, 4], index=['a', 'b', 'c', 'd'])\n",
    "\n",
    "# 檢視資料\n",
    "print(s)\n",
    "print(s['a'])  # 根據索引查詢\n"
   ]
  },
  {
   "cell_type": "raw",
   "id": "b7b28aa6-799c-4081-833e-fa2844157823",
   "metadata": {},
   "source": [
    "(2) Pandas DataFrame\n",
    "DataFrame 是二維的資料結構，可以視為表格資料。"
   ]
  },
  {
   "cell_type": "code",
   "execution_count": null,
   "id": "d8d4be00-ff4e-429a-b3e4-aaa8e7c7f606",
   "metadata": {},
   "outputs": [],
   "source": [
    "# 建立 DataFrame\n",
    "data = {'Name': ['Alice', 'Bob', 'Charlie'],\n",
    "        'Age': [25, 30, 35],\n",
    "        'City': ['New York', 'Los Angeles', 'Chicago']}\n",
    "df = pd.DataFrame(data)\n",
    "\n",
    "# 檢視資料\n",
    "print(df)\n",
    "print(df['Name'])  # 選擇一欄資料\n"
   ]
  },
  {
   "cell_type": "raw",
   "id": "28c80ce0-8181-40bc-9b9c-9e683f46be76",
   "metadata": {},
   "source": [
    "(3) Selection（資料選取）"
   ]
  },
  {
   "cell_type": "code",
   "execution_count": null,
   "id": "1176b7a6-8913-41b0-a899-e89608727521",
   "metadata": {},
   "outputs": [],
   "source": [
    "# 根據條件選擇資料\n",
    "filtered_df = df[df['Age'] > 30]\n",
    "print(filtered_df)\n"
   ]
  },
  {
   "cell_type": "raw",
   "id": "e1bff0ef-4073-4ea8-9f5b-c8bfbbab3c9b",
   "metadata": {},
   "source": [
    "(4) Grouping（資料分組）"
   ]
  },
  {
   "cell_type": "code",
   "execution_count": null,
   "id": "51a375f1-5c52-497b-9e17-27ccc826ef28",
   "metadata": {},
   "outputs": [],
   "source": [
    "# 根據某個欄位分組並計算統計值\n",
    "grouped = df.groupby('City').mean()\n",
    "print(grouped)\n"
   ]
  },
  {
   "cell_type": "markdown",
   "id": "f980ba72-e429-4a0f-9a03-765abcd01699",
   "metadata": {},
   "source": [
    "3.Pandas 與 Excel 的整合"
   ]
  },
  {
   "cell_type": "raw",
   "id": "94a989f6-b70a-483b-a266-8371bfa3aef3",
   "metadata": {},
   "source": [
    "(1) 讀取 Excel 檔案"
   ]
  },
  {
   "cell_type": "code",
   "execution_count": null,
   "id": "e1b85b11-3f01-48c1-92a5-cb6b2ad68a55",
   "metadata": {},
   "outputs": [],
   "source": [
    "df = pd.read_excel('data.xlsx', sheet_name='Sheet1')\n",
    "\n",
    "# 檢視資料\n",
    "print(df.head())\n"
   ]
  },
  {
   "cell_type": "raw",
   "id": "aa46c13e-11a0-452c-abd8-28a2996f2be6",
   "metadata": {},
   "source": [
    "(2) 寫入 Excel 檔案"
   ]
  },
  {
   "cell_type": "code",
   "execution_count": null,
   "id": "7dadbd5c-8244-403a-971a-3d06860a527b",
   "metadata": {},
   "outputs": [],
   "source": [
    "df.to_excel('output.xlsx', index=False)\n"
   ]
  },
  {
   "cell_type": "markdown",
   "id": "c268d40f-7afc-4934-9a0f-e1a90b22898a",
   "metadata": {},
   "source": [
    "4. 自動化樞紐分析表\n",
    "使用 Pandas 自動化建立樞紐分析表。"
   ]
  },
  {
   "cell_type": "code",
   "execution_count": null,
   "id": "29db5f9c-63bd-427f-9f15-9b8a73476efe",
   "metadata": {},
   "outputs": [],
   "source": [
    "# 樞紐分析表範例\n",
    "pivot_table = df.pivot_table(index='City', values='Age', aggfunc='mean')\n",
    "\n",
    "# 檢視樞紐分析表\n",
    "print(pivot_table)\n",
    "\n",
    "# 寫入 Excel 檔案\n",
    "pivot_table.to_excel('pivot_output.xlsx')\n"
   ]
  },
  {
   "cell_type": "markdown",
   "id": "ae8a0950-3ee0-4c31-a532-e24c9b72604d",
   "metadata": {},
   "source": [
    "5.跨表格與跨工作簿的資料處理"
   ]
  },
  {
   "cell_type": "raw",
   "id": "54571efa-3e63-4607-9bdf-5ba4b8c318ab",
   "metadata": {},
   "source": [
    "(1) 使用 Pandas Append 進行水平合併"
   ]
  },
  {
   "cell_type": "code",
   "execution_count": null,
   "id": "a85f12d9-50f6-4d57-a088-7955374e028d",
   "metadata": {},
   "outputs": [],
   "source": [
    "# 假設有兩個 DataFrame\n",
    "df1 = pd.DataFrame({'Name': ['Alice', 'Bob'], 'Age': [25, 30]})\n",
    "df2 = pd.DataFrame({'Name': ['Charlie', 'David'], 'Age': [35, 40]})\n",
    "\n",
    "# 水平合併\n",
    "df_combined = pd.concat([df1, df2], ignore_index=True)\n",
    "\n",
    "# 檢視合併後的資料\n",
    "print(df_combined)\n"
   ]
  },
  {
   "cell_type": "raw",
   "id": "c1e0a71f-0bab-4bea-91d4-62a959fb4051",
   "metadata": {},
   "source": [
    "(2) 跨工作簿合併資料"
   ]
  },
  {
   "cell_type": "code",
   "execution_count": null,
   "id": "96a496b9-211a-4628-a2a2-20698bd3687a",
   "metadata": {},
   "outputs": [],
   "source": [
    "# 讀取多個 Excel 工作簿中的資料\n",
    "df1 = pd.read_excel('file1.xlsx')\n",
    "df2 = pd.read_excel('file2.xlsx')\n",
    "\n",
    "# 合併資料\n",
    "df_combined = pd.concat([df1, df2], ignore_index=True)\n",
    "\n",
    "# 寫入新的 Excel 檔案\n",
    "df_combined.to_excel('combined_output.xlsx', index=False)\n"
   ]
  }
 ],
 "metadata": {
  "kernelspec": {
   "display_name": "Python 3 (ipykernel)",
   "language": "python",
   "name": "python3"
  },
  "language_info": {
   "codemirror_mode": {
    "name": "ipython",
    "version": 3
   },
   "file_extension": ".py",
   "mimetype": "text/x-python",
   "name": "python",
   "nbconvert_exporter": "python",
   "pygments_lexer": "ipython3",
   "version": "3.12.5"
  }
 },
 "nbformat": 4,
 "nbformat_minor": 5
}
