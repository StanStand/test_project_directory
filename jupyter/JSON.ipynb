{
 "cells": [
  {
   "cell_type": "markdown",
   "id": "4c006ca0-cc77-4ed3-8e5a-b9e03f5070ab",
   "metadata": {},
   "source": [
    "# JSON（JavaScript Object Notation）是一種輕量級的資料交換格式，易於人類閱讀和編寫，也容易被機器解析和生成。JSON 是基於文本的格式，常用於網路應用中進行資料交換。\n",
    "\n",
    "# JSON 的基本特徵\n",
    "數據結構：JSON 使用鍵值對的方式來表示數據，數據由對象（Object）和數組（Array）組成。\n",
    "對象：由一組鍵值對組成，鍵（key）和值（value）之間用冒號（:）分隔，每對鍵值對之間用逗號（,）分隔。\n",
    "數組：由一組值組成，值之間用逗號分隔。\n",
    "數據類型：JSON 支持字符串（string）、數字（number）、布林值（boolean）、對象（object）、數組（array）和空值（null）。"
   ]
  },
  {
   "cell_type": "markdown",
   "id": "bc45e0a1-7732-45ad-9715-b19ed7ae4971",
   "metadata": {},
   "source": [
    "# JSON 格式示例"
   ]
  },
  {
   "cell_type": "code",
   "execution_count": null,
   "id": "c0611104-437e-4cb0-b01f-3c445ac33c50",
   "metadata": {},
   "outputs": [],
   "source": [
    "{\n",
    "  \"name\": \"Alice\",\n",
    "  \"age\": 30,\n",
    "  \"is_student\": false,\n",
    "  \"courses\": [\"Math\", \"Science\"],\n",
    "  \"address\": {\n",
    "    \"street\": \"123 Main St\",\n",
    "    \"city\": \"New York\"\n",
    "  }\n",
    "}\n"
   ]
  },
  {
   "cell_type": "markdown",
   "id": "6f9651f0-040d-4591-9fd7-10ae6b26f629",
   "metadata": {},
   "source": [
    "# 使用 Python 讀取和寫入 JSON\n",
    "Python 的 json 模組提供了處理 JSON 的基本功能。\n",
    "\n",
    "讀取 JSON 檔案"
   ]
  },
  {
   "cell_type": "code",
   "execution_count": null,
   "id": "fd3e41c2-a431-4168-86f7-ea2b25763aed",
   "metadata": {},
   "outputs": [],
   "source": [
    "import json\n",
    "\n",
    "# 讀取 JSON 檔案\n",
    "with open('data.json', 'r') as file:\n",
    "    data = json.load(file)\n",
    "\n",
    "# 顯示內容\n",
    "print(data)\n"
   ]
  },
  {
   "cell_type": "markdown",
   "id": "f636ebde-c098-4ccc-9745-33f0a05f1534",
   "metadata": {},
   "source": [
    "寫入 JSON 檔案"
   ]
  },
  {
   "cell_type": "code",
   "execution_count": null,
   "id": "1ba7d9ed-5127-424a-bfe7-a3f311de156d",
   "metadata": {},
   "outputs": [],
   "source": [
    "import json\n",
    "\n",
    "# 資料\n",
    "data = {\n",
    "    \"name\": \"Alice\",\n",
    "    \"age\": 30,\n",
    "    \"is_student\": False,\n",
    "    \"courses\": [\"Math\", \"Science\"],\n",
    "    \"address\": {\n",
    "        \"street\": \"123 Main St\",\n",
    "        \"city\": \"New York\"\n",
    "    }\n",
    "}\n",
    "\n",
    "# 寫入 JSON 檔案\n",
    "with open('output.json', 'w') as file:\n",
    "    json.dump(data, file, indent=4)  # `indent` 用於格式化輸出\n"
   ]
  },
  {
   "cell_type": "markdown",
   "id": "4bd8a0ef-6356-4a75-9c3d-c4d1610ba067",
   "metadata": {},
   "source": [
    "# JSON 與 Python 對象的轉換\n",
    "Python 對象轉 JSON：json.dumps() 將 Python 對象轉換為 JSON 字符串。\n",
    "JSON 字符串轉 Python 對象：json.loads() 將 JSON 字符串解析為 Python 對象。"
   ]
  },
  {
   "cell_type": "markdown",
   "id": "7096e2b6-a7b9-49f8-a871-0bbf331dbf84",
   "metadata": {},
   "source": [
    "Python 對象轉 JSON 字符串"
   ]
  },
  {
   "cell_type": "code",
   "execution_count": null,
   "id": "9e61f025-1f74-47e2-a871-cb1a4d559c6f",
   "metadata": {},
   "outputs": [],
   "source": [
    "import json\n",
    "\n",
    "data = {\n",
    "    \"name\": \"Alice\",\n",
    "    \"age\": 30,\n",
    "    \"is_student\": False\n",
    "}\n",
    "\n",
    "json_string = json.dumps(data, indent=4)\n",
    "print(json_string)\n"
   ]
  },
  {
   "cell_type": "markdown",
   "id": "667e4446-e80d-41b8-b2db-84e621aea246",
   "metadata": {},
   "source": [
    "JSON 字符串轉 Python 對象"
   ]
  },
  {
   "cell_type": "code",
   "execution_count": null,
   "id": "4beefc6d-ec6b-4f4f-84d8-e2f293207711",
   "metadata": {},
   "outputs": [],
   "source": [
    "import json\n",
    "\n",
    "json_string = '{\"name\": \"Alice\", \"age\": 30, \"is_student\": false}'\n",
    "\n",
    "data = json.loads(json_string)\n",
    "print(data)\n"
   ]
  },
  {
   "cell_type": "markdown",
   "id": "95349fad-4693-4da1-bcfe-21e79a898464",
   "metadata": {},
   "source": [
    "常見操作\n",
    "處理複雜結構：JSON 支持嵌套的對象和數組，可以表示複雜的數據結構。\n",
    "資料驗證：可以使用 JSON Schema 進行資料驗證和結構檢查。"
   ]
  }
 ],
 "metadata": {
  "kernelspec": {
   "display_name": "Python 3 (ipykernel)",
   "language": "python",
   "name": "python3"
  },
  "language_info": {
   "codemirror_mode": {
    "name": "ipython",
    "version": 3
   },
   "file_extension": ".py",
   "mimetype": "text/x-python",
   "name": "python",
   "nbconvert_exporter": "python",
   "pygments_lexer": "ipython3",
   "version": "3.12.5"
  }
 },
 "nbformat": 4,
 "nbformat_minor": 5
}
