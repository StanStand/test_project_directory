{
 "cells": [
  {
   "cell_type": "markdown",
   "id": "8b02be22-a4f2-46e5-90b5-b8c28b976251",
   "metadata": {},
   "source": [
    "1. RPA（機器人流程自動化）\n",
    "利用 Python 的 RPA 工具如 pyautogui 或 Selenium 來自動執行重複性的工作，如自動化檔案處理、點擊操作、資料爬取等。"
   ]
  },
  {
   "cell_type": "code",
   "execution_count": null,
   "id": "62e19c72-511d-4e30-adbe-a300a64c155d",
   "metadata": {},
   "outputs": [],
   "source": [
    "import pyautogui\n",
    "\n",
    "# 自動控制滑鼠\n",
    "pyautogui.click(100, 200)  # 移動並點擊座標 (100, 200)\n"
   ]
  },
  {
   "cell_type": "markdown",
   "id": "95075299-de77-4e3b-b56d-31fbda8a7716",
   "metadata": {},
   "source": [
    "2. 排程 Python 程式碼的執行\n",
    "使用排程工具如 schedule 或 Windows/Linux 的 cron 來定時執行 Python 腳本。"
   ]
  },
  {
   "cell_type": "code",
   "execution_count": null,
   "id": "8dd94254-cb0d-4644-98e3-86454ce395da",
   "metadata": {},
   "outputs": [],
   "source": [
    "import schedule\n",
    "import time\n",
    "\n",
    "def job():\n",
    "    print(\"執行排程任務\")\n",
    "\n",
    "schedule.every().day.at(\"10:00\").do(job)\n",
    "\n",
    "while True:\n",
    "    schedule.run_pending()\n",
    "    time.sleep(1)\n"
   ]
  },
  {
   "cell_type": "markdown",
   "id": "6bc29e35-44d0-445d-86ea-7d46ae2876b5",
   "metadata": {},
   "source": [
    "3. 用 Python 發送 Line 訊息\n",
    "使用 Line 的 API 或第三方套件來發送自動訊息。"
   ]
  },
  {
   "cell_type": "code",
   "execution_count": null,
   "id": "7f8ff9e2-e14b-4d81-a34d-d576128f07ae",
   "metadata": {},
   "outputs": [],
   "source": [
    "from linebot import LineBotApi\n",
    "\n",
    "line_bot_api = LineBotApi('YOUR_CHANNEL_ACCESS_TOKEN')\n",
    "line_bot_api.push_message('USER_ID', TextSendMessage(text='Hello, this is a message from Python!'))\n"
   ]
  }
 ],
 "metadata": {
  "kernelspec": {
   "display_name": "Python 3 (ipykernel)",
   "language": "python",
   "name": "python3"
  },
  "language_info": {
   "codemirror_mode": {
    "name": "ipython",
    "version": 3
   },
   "file_extension": ".py",
   "mimetype": "text/x-python",
   "name": "python",
   "nbconvert_exporter": "python",
   "pygments_lexer": "ipython3",
   "version": "3.12.5"
  }
 },
 "nbformat": 4,
 "nbformat_minor": 5
}
