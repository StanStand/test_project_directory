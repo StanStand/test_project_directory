{
 "cells": [
  {
   "cell_type": "markdown",
   "id": "c1ed03c7-3249-4775-b6d1-91fc08a0400c",
   "metadata": {},
   "source": [
    "# 資料視覺化"
   ]
  },
  {
   "cell_type": "markdown",
   "id": "5353d9cf-ffbd-4ce3-b12f-941b0f069ebd",
   "metadata": {},
   "source": [
    "1. 使用 Matplotlib 進行靜態圖表繪製"
   ]
  },
  {
   "cell_type": "raw",
   "id": "142011a3-002d-49c8-adb3-da4281fd8462",
   "metadata": {},
   "source": [
    "(1) 繪製折線圖"
   ]
  },
  {
   "cell_type": "code",
   "execution_count": null,
   "id": "6e5be975-5c2c-4fdf-8bd0-5efd1b092cdd",
   "metadata": {},
   "outputs": [],
   "source": [
    "import matplotlib.pyplot as plt\n",
    "\n",
    "# 資料\n",
    "x = [1, 2, 3, 4, 5]\n",
    "y = [10, 20, 25, 30, 40]\n",
    "\n",
    "# 繪製折線圖\n",
    "plt.plot(x, y)\n",
    "\n",
    "# 添加標題與標籤\n",
    "plt.title('折線圖示例')\n",
    "plt.xlabel('X 軸')\n",
    "plt.ylabel('Y 軸')\n",
    "\n",
    "# 顯示圖表\n",
    "plt.show()\n"
   ]
  },
  {
   "cell_type": "raw",
   "id": "a6cd1caf-4770-4d4e-8269-120f8b302963",
   "metadata": {},
   "source": [
    "(2) 繪製長條圖"
   ]
  },
  {
   "cell_type": "code",
   "execution_count": null,
   "id": "d22b5777-6fa2-41cb-804a-2de9f0600d6b",
   "metadata": {},
   "outputs": [],
   "source": [
    "# 資料\n",
    "categories = ['A', 'B', 'C', 'D']\n",
    "values = [3, 7, 8, 5]\n",
    "\n",
    "# 繪製長條圖\n",
    "plt.bar(categories, values)\n",
    "\n",
    "# 添加標題與標籤\n",
    "plt.title('長條圖示例')\n",
    "plt.xlabel('類別')\n",
    "plt.ylabel('數值')\n",
    "\n",
    "# 顯示圖表\n",
    "plt.show()\n"
   ]
  },
  {
   "cell_type": "markdown",
   "id": "d0ab54ec-61ee-4ac1-8907-c897cf182ab8",
   "metadata": {},
   "source": [
    "2. 使用 Seaborn 進行靜態圖表繪製\n",
    "Seaborn 是基於 Matplotlib 的高階視覺化工具，適合進行統計圖表的繪製。"
   ]
  },
  {
   "cell_type": "raw",
   "id": "ba64681a-3194-458e-9662-c0339d9fe4f5",
   "metadata": {},
   "source": [
    "(1) 繪製散佈圖"
   ]
  },
  {
   "cell_type": "code",
   "execution_count": null,
   "id": "3aef5d5c-f7c3-487e-ae04-6bbb940f0b95",
   "metadata": {},
   "outputs": [],
   "source": [
    "import seaborn as sns\n",
    "import matplotlib.pyplot as plt\n",
    "\n",
    "# 資料\n",
    "tips = sns.load_dataset('tips')\n",
    "\n",
    "# 繪製散佈圖\n",
    "sns.scatterplot(data=tips, x='total_bill', y='tip')\n",
    "\n",
    "# 添加標題\n",
    "plt.title('餐廳小費散佈圖')\n",
    "\n",
    "# 顯示圖表\n",
    "plt.show()\n"
   ]
  },
  {
   "cell_type": "code",
   "execution_count": null,
   "id": "d889d397-8aa6-4b29-a267-277e4a2f368c",
   "metadata": {},
   "outputs": [],
   "source": [
    "(2) 繪製箱型圖"
   ]
  },
  {
   "cell_type": "code",
   "execution_count": null,
   "id": "0b35a01e-23ed-48a3-9d85-5475bf704a1f",
   "metadata": {},
   "outputs": [],
   "source": [
    "# 繪製箱型圖\n",
    "sns.boxplot(data=tips, x='day', y='total_bill')\n",
    "\n",
    "# 添加標題\n",
    "plt.title('每日消費箱型圖')\n",
    "\n",
    "# 顯示圖表\n",
    "plt.show()\n"
   ]
  },
  {
   "cell_type": "markdown",
   "id": "b5395987-f296-4c9b-945c-f908e93710ce",
   "metadata": {},
   "source": [
    "3. 使用 Plotly 進行互動式圖表繪製\n",
    "Plotly 是一個強大的互動式視覺化工具，適合用於網頁或應用程式中。"
   ]
  },
  {
   "cell_type": "raw",
   "id": "8e6abfb4-91b7-4951-a270-ff34c0ce4636",
   "metadata": {},
   "source": [
    "(1) 繪製互動式折線圖"
   ]
  },
  {
   "cell_type": "code",
   "execution_count": null,
   "id": "9c549ace-3b1d-414d-a9f0-8ca0f9667164",
   "metadata": {},
   "outputs": [],
   "source": [
    "import plotly.graph_objects as go\n",
    "\n",
    "# 資料\n",
    "x = [1, 2, 3, 4, 5]\n",
    "y = [10, 20, 25, 30, 40]\n",
    "\n",
    "# 繪製折線圖\n",
    "fig = go.Figure(data=go.Scatter(x=x, y=y, mode='lines'))\n",
    "\n",
    "# 顯示互動式圖表\n",
    "fig.show()\n"
   ]
  },
  {
   "cell_type": "code",
   "execution_count": null,
   "id": "42269f84-e555-4adb-a95d-dc67eb8ebb02",
   "metadata": {},
   "outputs": [],
   "source": [
    "(2) 繪製互動式長條圖"
   ]
  },
  {
   "cell_type": "code",
   "execution_count": null,
   "id": "8a016033-3725-442c-a714-485d6d441a0a",
   "metadata": {},
   "outputs": [],
   "source": [
    "# 繪製長條圖\n",
    "fig = go.Figure(data=go.Bar(x=categories, y=values))\n",
    "\n",
    "# 顯示互動式圖表\n",
    "fig.show()\n"
   ]
  },
  {
   "cell_type": "markdown",
   "id": "2e8709e0-d65b-4ceb-b550-7d6aab89016f",
   "metadata": {},
   "source": [
    "4. 使用 Python 進行資料從 SQL 撈取到聚合再視覺化的完整流程"
   ]
  },
  {
   "cell_type": "raw",
   "id": "aa9455ca-2581-48a8-a63a-f9d1fb6bf290",
   "metadata": {},
   "source": [
    "(1) 從 SQL 資料庫撈取資料"
   ]
  },
  {
   "cell_type": "code",
   "execution_count": null,
   "id": "ca30a9c0-37f0-42be-a52a-5e0e1d1bb4ab",
   "metadata": {},
   "outputs": [],
   "source": [
    "import mysql.connector\n",
    "import pandas as pd\n",
    "\n",
    "# 建立連接\n",
    "conn = mysql.connector.connect(\n",
    "    host=\"your_host\",\n",
    "    user=\"your_username\",\n",
    "    password=\"your_password\",\n",
    "    database=\"your_database\"\n",
    ")\n",
    "\n",
    "# 查詢資料\n",
    "query = \"SELECT date, sales FROM sales_data\"\n",
    "df = pd.read_sql(query, conn)\n",
    "\n",
    "# 檢視撈取的資料\n",
    "print(df.head())\n",
    "\n",
    "# 關閉連接\n",
    "conn.close()\n"
   ]
  },
  {
   "cell_type": "raw",
   "id": "a1a0bee0-2513-4af9-87f3-a61813e7b462",
   "metadata": {},
   "source": [
    "(2) 使用 Pandas 進行資料聚合"
   ]
  },
  {
   "cell_type": "markdown",
   "id": "102d73a3-7502-43df-92fb-54ed27f09091",
   "metadata": {},
   "source": [
    "假設資料包含每日銷售數據，可以將其按月進行聚合。"
   ]
  },
  {
   "cell_type": "code",
   "execution_count": null,
   "id": "e2cc39b5-743a-47d4-b0ef-b5a1ef39353e",
   "metadata": {},
   "outputs": [],
   "source": [
    "# 將 'date' 欄位轉換為日期格式\n",
    "df['date'] = pd.to_datetime(df['date'])\n",
    "\n",
    "# 根據月份進行聚合，計算每月銷售總和\n",
    "monthly_sales = df.groupby(df['date'].dt.to_period('M')).sum()\n",
    "\n",
    "# 檢視聚合結果\n",
    "print(monthly_sales)\n"
   ]
  },
  {
   "cell_type": "raw",
   "id": "d180d3d2-a94a-4ece-9629-c15dde367129",
   "metadata": {},
   "source": [
    "(3) 繪製銷售趨勢圖（使用 Matplotlib）"
   ]
  },
  {
   "cell_type": "code",
   "execution_count": null,
   "id": "03f8ebdb-fb65-4842-b1cb-d12518bdc1aa",
   "metadata": {},
   "outputs": [],
   "source": [
    "# 繪製折線圖顯示每月銷售趨勢\n",
    "plt.plot(monthly_sales.index.astype(str), monthly_sales['sales'])\n",
    "\n",
    "# 添加標題與標籤\n",
    "plt.title('每月銷售趨勢')\n",
    "plt.xlabel('月份')\n",
    "plt.ylabel('銷售額')\n",
    "\n",
    "# 顯示圖表\n",
    "plt.show()\n"
   ]
  },
  {
   "cell_type": "raw",
   "id": "40692785-8b4e-4fe4-af0a-624624f98a31",
   "metadata": {},
   "source": [
    "(4) 使用 Plotly 繪製互動式趨勢圖"
   ]
  },
  {
   "cell_type": "code",
   "execution_count": null,
   "id": "ac717977-ee6e-4029-b045-f9eacc0e8aa6",
   "metadata": {},
   "outputs": [],
   "source": [
    "import plotly.graph_objects as go\n",
    "\n",
    "# 繪製互動式折線圖\n",
    "fig = go.Figure(data=go.Scatter(x=monthly_sales.index.astype(str), y=monthly_sales['sales'], mode='lines'))\n",
    "\n",
    "# 顯示互動式圖表\n",
    "fig.show()\n"
   ]
  },
  {
   "cell_type": "code",
   "execution_count": null,
   "id": "1d739d64-9e1d-4ff3-a42a-3e65f2a8f857",
   "metadata": {},
   "outputs": [],
   "source": []
  }
 ],
 "metadata": {
  "kernelspec": {
   "display_name": "Python 3 (ipykernel)",
   "language": "python",
   "name": "python3"
  },
  "language_info": {
   "codemirror_mode": {
    "name": "ipython",
    "version": 3
   },
   "file_extension": ".py",
   "mimetype": "text/x-python",
   "name": "python",
   "nbconvert_exporter": "python",
   "pygments_lexer": "ipython3",
   "version": "3.12.5"
  }
 },
 "nbformat": 4,
 "nbformat_minor": 5
}
