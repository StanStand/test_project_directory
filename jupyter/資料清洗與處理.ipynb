{
 "cells": [
  {
   "cell_type": "markdown",
   "id": "86985bef-8e0b-454e-9f1c-961258596f02",
   "metadata": {},
   "source": [
    "1. 處理缺失值與異常值\n",
    "缺失值處理（Missing Data Handling）：處理資料集中缺失的數據，常見方法包括刪除缺失值、填充缺失值（平均值、中位數等）、使用模型預測缺失值。\n",
    "異常值處理（Outlier Handling）：發現並處理異常值（outliers），可能是來自於錯誤數據或非常極端的值。"
   ]
  },
  {
   "cell_type": "code",
   "execution_count": null,
   "id": "c4eb4dcc-79fd-489e-936c-66c1857e44c7",
   "metadata": {},
   "outputs": [],
   "source": [
    "import pandas as pd\n",
    "from sklearn.impute import SimpleImputer\n",
    "\n",
    "# 填補缺失值\n",
    "imputer = SimpleImputer(strategy='mean')  # 以平均值填補\n",
    "df['column_with_nan'] = imputer.fit_transform(df[['column_with_nan']])\n"
   ]
  },
  {
   "cell_type": "markdown",
   "id": "55c0d265-f371-4937-9452-3dccceb2e378",
   "metadata": {},
   "source": [
    "2. One-hot Encoding\n",
    "將類別型資料轉換為數字，讓機器學習模型能夠理解這些資訊。"
   ]
  },
  {
   "cell_type": "code",
   "execution_count": null,
   "id": "f6bc24ef-b332-4aea-a9ea-3395e9a2211f",
   "metadata": {},
   "outputs": [],
   "source": [
    "from sklearn.preprocessing import OneHotEncoder\n",
    "\n",
    "encoder = OneHotEncoder()\n",
    "encoded_data = encoder.fit_transform(df[['categorical_column']])\n"
   ]
  },
  {
   "cell_type": "markdown",
   "id": "2b1d9fc6-6c52-4efa-bc2f-089d0204bb67",
   "metadata": {},
   "source": [
    "3. 特徵縮放（Feature Scaling）\n",
    "對數據進行縮放（如標準化或正規化），讓不同尺度的數據在機器學習模型中表現得更好。"
   ]
  },
  {
   "cell_type": "code",
   "execution_count": null,
   "id": "5172fc29-5422-4ad4-8c7e-6e2706d07cc9",
   "metadata": {},
   "outputs": [],
   "source": [
    "from sklearn.preprocessing import StandardScaler\n",
    "\n",
    "scaler = StandardScaler()\n",
    "scaled_data = scaler.fit_transform(df[['numeric_column']])\n"
   ]
  },
  {
   "cell_type": "code",
   "execution_count": null,
   "id": "8520f810-ea72-46e2-acb9-4a3a5b404984",
   "metadata": {},
   "outputs": [],
   "source": []
  }
 ],
 "metadata": {
  "kernelspec": {
   "display_name": "Python 3 (ipykernel)",
   "language": "python",
   "name": "python3"
  },
  "language_info": {
   "codemirror_mode": {
    "name": "ipython",
    "version": 3
   },
   "file_extension": ".py",
   "mimetype": "text/x-python",
   "name": "python",
   "nbconvert_exporter": "python",
   "pygments_lexer": "ipython3",
   "version": "3.12.5"
  }
 },
 "nbformat": 4,
 "nbformat_minor": 5
}
