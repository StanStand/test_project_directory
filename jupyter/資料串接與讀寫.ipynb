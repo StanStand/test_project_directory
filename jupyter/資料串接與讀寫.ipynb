{
 "cells": [
  {
   "cell_type": "markdown",
   "id": "abcd886f-8553-4ebc-9940-aae0d4ee00dc",
   "metadata": {},
   "source": [
    "# 資料串接與讀寫"
   ]
  },
  {
   "cell_type": "markdown",
   "id": "7916e8a6-7e5d-4679-9655-bf0554d8332f",
   "metadata": {},
   "source": [
    "1.資料庫連接與操作"
   ]
  },
  {
   "cell_type": "raw",
   "id": "d47e9052-3335-41f5-b09e-83957ca76473",
   "metadata": {},
   "source": [
    "(1) 連接 MSSQL（使用 pyodbc）"
   ]
  },
  {
   "cell_type": "code",
   "execution_count": null,
   "id": "c0b2054f-5372-49cb-968e-c7001475e777",
   "metadata": {},
   "outputs": [],
   "source": [
    "import pyodbc\n",
    "\n",
    "# 設定連接資料庫的參數\n",
    "conn_str = (\n",
    "    \"DRIVER={ODBC Driver 17 for SQL Server};\"\n",
    "    \"SERVER=your_server;\"\n",
    "    \"DATABASE=your_database;\"\n",
    "    \"UID=your_username;\"\n",
    "    \"PWD=your_password;\"\n",
    ")\n",
    "\n",
    "# 建立連接\n",
    "conn = pyodbc.connect(conn_str)\n",
    "cursor = conn.cursor()\n",
    "\n",
    "# 查詢資料\n",
    "cursor.execute(\"SELECT * FROM your_table\")\n",
    "for row in cursor.fetchall():\n",
    "    print(row)\n",
    "\n",
    "# 關閉連接\n",
    "cursor.close()\n",
    "conn.close()\n"
   ]
  },
  {
   "cell_type": "raw",
   "id": "25f1dec7-ac6a-4c39-8963-17a2f888704f",
   "metadata": {},
   "source": [
    "(2) 連接 MySQL（使用 mysql-connector-python）"
   ]
  },
  {
   "cell_type": "code",
   "execution_count": null,
   "id": "323e974d-f409-4169-8584-8bd9e2badb63",
   "metadata": {},
   "outputs": [],
   "source": [
    "import mysql.connector\n",
    "\n",
    "# 建立連接\n",
    "conn = mysql.connector.connect(\n",
    "    host=\"your_host\",\n",
    "    user=\"your_username\",\n",
    "    password=\"your_password\",\n",
    "    database=\"your_database\"\n",
    ")\n",
    "\n",
    "cursor = conn.cursor()\n",
    "\n",
    "# 查詢資料\n",
    "cursor.execute(\"SELECT * FROM your_table\")\n",
    "for row in cursor.fetchall():\n",
    "    print(row)\n",
    "\n",
    "# 關閉連接\n",
    "cursor.close()\n",
    "conn.close()\n"
   ]
  },
  {
   "cell_type": "markdown",
   "id": "8d898d3c-65eb-4de7-bc81-120b0d1648fe",
   "metadata": {},
   "source": [
    "2.檔案的讀取與寫入"
   ]
  },
  {
   "cell_type": "raw",
   "id": "26e3eba5-1eec-4956-99b0-64f2026ea588",
   "metadata": {},
   "source": [
    "(1) CSV 檔案的讀取與寫入（使用 pandas）"
   ]
  },
  {
   "cell_type": "code",
   "execution_count": null,
   "id": "d7f1947e-5d72-41c4-a50b-d2c1c6ebbd9e",
   "metadata": {},
   "outputs": [],
   "source": [
    "import pandas as pd\n",
    "\n",
    "# 讀取 CSV 檔案\n",
    "df = pd.read_csv('file.csv')\n",
    "\n",
    "# 處理資料\n",
    "print(df.head())\n",
    "\n",
    "# 寫入 CSV 檔案\n",
    "df.to_csv('output.csv', index=False)\n"
   ]
  },
  {
   "cell_type": "raw",
   "id": "fdbb3846-a02e-46d7-a8c7-d51ba265ee5f",
   "metadata": {},
   "source": [
    "(2) Excel 檔案的讀取與寫入（使用 pandas）"
   ]
  },
  {
   "cell_type": "code",
   "execution_count": null,
   "id": "9e5257ad-85c9-4e6c-a462-42b1fecba3b3",
   "metadata": {},
   "outputs": [],
   "source": [
    "import pandas as pd\n",
    "\n",
    "# 讀取 Excel 檔案\n",
    "df = pd.read_excel('file.xlsx', sheet_name='Sheet1')\n",
    "\n",
    "# 處理資料\n",
    "print(df.head())\n",
    "\n",
    "# 寫入 Excel 檔案\n",
    "df.to_excel('output.xlsx', index=False)\n"
   ]
  },
  {
   "cell_type": "raw",
   "id": "da55490d-79bb-4c28-8d7b-7ac9456385df",
   "metadata": {},
   "source": [
    "(3) Word 檔案的讀取與寫入（使用 python-docx）"
   ]
  },
  {
   "cell_type": "code",
   "execution_count": null,
   "id": "fc8d6958-d99d-4613-b7f9-337cdc153b63",
   "metadata": {},
   "outputs": [],
   "source": [
    "from docx import Document\n",
    "\n",
    "# 讀取 Word 文件\n",
    "doc = Document('file.docx')\n",
    "\n",
    "# 讀取每個段落\n",
    "for paragraph in doc.paragraphs:\n",
    "    print(paragraph.text)\n",
    "\n",
    "# 寫入 Word 文件\n",
    "new_doc = Document()\n",
    "new_doc.add_paragraph(\"這是一個新的段落\")\n",
    "new_doc.save('output.docx')\n"
   ]
  },
  {
   "cell_type": "raw",
   "id": "77369112-5f6a-4fe0-a25b-e3af8cf54764",
   "metadata": {},
   "source": [
    "(4) TXT 檔案的讀取與寫入"
   ]
  },
  {
   "cell_type": "code",
   "execution_count": null,
   "id": "9cb27101-1f43-45f4-ae1d-1404b21ce5b3",
   "metadata": {},
   "outputs": [],
   "source": [
    "# 讀取 TXT 檔案\n",
    "with open('file.txt', 'r', encoding='utf-8') as file:\n",
    "    content = file.read()\n",
    "    print(content)\n",
    "\n",
    "# 寫入 TXT 檔案\n",
    "with open('output.txt', 'w', encoding='utf-8') as file:\n",
    "    file.write(\"這是寫入的內容\")\n"
   ]
  }
 ],
 "metadata": {
  "kernelspec": {
   "display_name": "Python 3 (ipykernel)",
   "language": "python",
   "name": "python3"
  },
  "language_info": {
   "codemirror_mode": {
    "name": "ipython",
    "version": 3
   },
   "file_extension": ".py",
   "mimetype": "text/x-python",
   "name": "python",
   "nbconvert_exporter": "python",
   "pygments_lexer": "ipython3",
   "version": "3.12.5"
  }
 },
 "nbformat": 4,
 "nbformat_minor": 5
}
