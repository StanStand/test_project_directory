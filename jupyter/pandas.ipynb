{
 "cells": [
  {
   "cell_type": "raw",
   "id": "d9020f5c-add1-4f62-b06a-4e5cc658bdab",
   "metadata": {},
   "source": [
    "Pandas 是 Python 中非常強大且常用的資料處理與分析工具。它能輕鬆地讀取、操作並分析各種資料格式，如 CSV、Excel、SQL、JSON 等等。Pandas 的核心資料結構是 Series 和 DataFrame，前者是一維陣列，後者是二維表格結構，類似於 Excel 的工作表。"
   ]
  },
  {
   "cell_type": "markdown",
   "id": "c6b65c50-affd-455f-a5b5-26d9862602e3",
   "metadata": {},
   "source": [
    "1. 安裝 Pandas"
   ]
  },
  {
   "cell_type": "code",
   "execution_count": null,
   "id": "2ada8291-cb1b-4144-89f5-16961699f692",
   "metadata": {},
   "outputs": [],
   "source": [
    "pip install pandas"
   ]
  },
  {
   "cell_type": "markdown",
   "id": "bdcce78a-59cc-47e8-aa9d-0b0ca41958f6",
   "metadata": {},
   "source": [
    "2. 匯入 Pandas 套件"
   ]
  },
  {
   "cell_type": "code",
   "execution_count": null,
   "id": "7a47efed-cd6f-448c-9e17-70f3da697a5f",
   "metadata": {},
   "outputs": [],
   "source": [
    "import pandas as pd"
   ]
  },
  {
   "cell_type": "markdown",
   "id": "56f2d985-f96c-4ad8-bf79-088f81df0df7",
   "metadata": {},
   "source": [
    "3. Pandas 資料結構"
   ]
  },
  {
   "cell_type": "raw",
   "id": "52c75879-f92f-4124-b1d5-4644cfd89a87",
   "metadata": {},
   "source": [
    "Series：一維標籤化的陣列，類似於一個 Excel 中的欄位。"
   ]
  },
  {
   "cell_type": "code",
   "execution_count": null,
   "id": "e3bd3e00-241f-4a4b-be06-cf7fda89ade1",
   "metadata": {},
   "outputs": [],
   "source": [
    "s = pd.Series([1, 3, 5, 7, 9])"
   ]
  },
  {
   "cell_type": "raw",
   "id": "d1aeb462-5ff7-4b5f-9f2f-d834ea68ba23",
   "metadata": {},
   "source": [
    "DataFrame：二維表格資料結構，類似於 Excel 表格。"
   ]
  },
  {
   "cell_type": "code",
   "execution_count": null,
   "id": "7e754327-d204-4288-a734-0eab9a05fb15",
   "metadata": {},
   "outputs": [],
   "source": [
    "df = pd.DataFrame({\n",
    "    'A': [1, 2, 3],\n",
    "    'B': [4, 5, 6],\n",
    "    'C': [7, 8, 9]\n",
    "})\n"
   ]
  },
  {
   "cell_type": "markdown",
   "id": "ae366379-5199-4cb3-9887-d7f951300044",
   "metadata": {},
   "source": [
    "4. 資料讀取與寫入"
   ]
  },
  {
   "cell_type": "raw",
   "id": "00443f2c-ed95-4505-8bb7-75718c97e6c3",
   "metadata": {},
   "source": [
    "讀取 CSV 檔案"
   ]
  },
  {
   "cell_type": "code",
   "execution_count": null,
   "id": "d395a920-08cc-4ba5-b176-4dc6c89d0739",
   "metadata": {},
   "outputs": [],
   "source": [
    "df = pd.read_csv('file.csv')"
   ]
  },
  {
   "cell_type": "raw",
   "id": "ce07e9cb-c5af-4887-818a-215b8d650ee2",
   "metadata": {},
   "source": [
    "寫入 CSV 檔案"
   ]
  },
  {
   "cell_type": "code",
   "execution_count": null,
   "id": "22751da4-c41e-4e86-9399-797d7fa7300b",
   "metadata": {},
   "outputs": [],
   "source": [
    "df.to_csv('output.csv', index=False)"
   ]
  },
  {
   "cell_type": "raw",
   "id": "f307d40b-c45b-481a-9b02-89dda90ce184",
   "metadata": {},
   "source": [
    "讀取 JSON 資料"
   ]
  },
  {
   "cell_type": "code",
   "execution_count": null,
   "id": "e629eb07-8675-4d8e-8299-9d57b49a7fc2",
   "metadata": {},
   "outputs": [],
   "source": [
    "df = pd.read_json('file.json')"
   ]
  },
  {
   "cell_type": "raw",
   "id": "d7fd7985-786b-4c28-8768-7a930c71649e",
   "metadata": {},
   "source": [
    "讀取 SQL 資料"
   ]
  },
  {
   "cell_type": "code",
   "execution_count": null,
   "id": "bdef1d55-d358-486f-9b87-11743c170132",
   "metadata": {},
   "outputs": [],
   "source": [
    "import sqlite3\n",
    "conn = sqlite3.connect('database.db')\n",
    "df = pd.read_sql('SELECT * FROM table_name', conn)"
   ]
  },
  {
   "cell_type": "markdown",
   "id": "41b9436b-e321-463f-a85e-06d8ffa08331",
   "metadata": {},
   "source": [
    "5. 資料操作"
   ]
  },
  {
   "cell_type": "raw",
   "id": "2da161a4-75d0-478e-a3e9-aea665060dca",
   "metadata": {},
   "source": [
    "選擇欄位"
   ]
  },
  {
   "cell_type": "code",
   "execution_count": null,
   "id": "5ebf3083-0fc2-4e82-96e7-bdb721df1081",
   "metadata": {},
   "outputs": [],
   "source": [
    "df['A']  # 單一欄位\n",
    "df[['A', 'B']]  # 多個欄位"
   ]
  },
  {
   "cell_type": "raw",
   "id": "580e5567-1cb2-4c73-8d26-1a4e50989b5e",
   "metadata": {},
   "source": [
    "篩選資料"
   ]
  },
  {
   "cell_type": "code",
   "execution_count": null,
   "id": "80f0d8e2-c11f-439e-b961-33705f888320",
   "metadata": {},
   "outputs": [],
   "source": [
    "df[df['A'] > 2]  # 條件篩選"
   ]
  },
  {
   "cell_type": "raw",
   "id": "53a11fc8-f99a-4cff-95d4-15c09130b8de",
   "metadata": {},
   "source": [
    "新增或修改欄位"
   ]
  },
  {
   "cell_type": "code",
   "execution_count": null,
   "id": "15cd4843-7e53-4110-8638-41531a0f8901",
   "metadata": {},
   "outputs": [],
   "source": [
    "df['D'] = df['A'] + df['B']  # 新增欄位"
   ]
  },
  {
   "cell_type": "raw",
   "id": "adab7c59-90a5-42f4-8937-99270fbfba4b",
   "metadata": {},
   "source": [
    "刪除欄位"
   ]
  },
  {
   "cell_type": "code",
   "execution_count": null,
   "id": "fa1d0118-fc4c-4a15-b9f0-3333bf731187",
   "metadata": {},
   "outputs": [],
   "source": [
    "df.drop(columns=['B'], inplace=True)"
   ]
  },
  {
   "cell_type": "raw",
   "id": "1384b8d8-0929-4268-8f78-5a440737021e",
   "metadata": {},
   "source": [
    "資料排序"
   ]
  },
  {
   "cell_type": "code",
   "execution_count": null,
   "id": "dba4e9b8-f334-4a59-85cf-be633f9bca97",
   "metadata": {},
   "outputs": [],
   "source": [
    "df.sort_values(by='A', ascending=False)"
   ]
  },
  {
   "cell_type": "raw",
   "id": "7c7dc059-df38-4d2b-b790-3e9576f0045c",
   "metadata": {},
   "source": [
    "資料重設索引"
   ]
  },
  {
   "cell_type": "code",
   "execution_count": null,
   "id": "a7f703ce-3b4d-4b96-8243-d21f2d96bf01",
   "metadata": {},
   "outputs": [],
   "source": [
    "df.reset_index(drop=True, inplace=True)"
   ]
  },
  {
   "cell_type": "markdown",
   "id": "7552e5a4-c27a-42ed-a949-17daf3b471fd",
   "metadata": {},
   "source": [
    "6. 缺失值處理"
   ]
  },
  {
   "cell_type": "raw",
   "id": "f05172e9-0960-4609-8318-bd9df5124e13",
   "metadata": {},
   "source": [
    "檢查缺失值"
   ]
  },
  {
   "cell_type": "code",
   "execution_count": null,
   "id": "c5fe79b5-c303-4954-88df-3e5500be8108",
   "metadata": {},
   "outputs": [],
   "source": [
    "df.isnull().sum()"
   ]
  },
  {
   "cell_type": "markdown",
   "id": "d60b1806-3f9c-47b7-be89-88c5f2524948",
   "metadata": {},
   "source": [
    "填補缺失值"
   ]
  },
  {
   "cell_type": "code",
   "execution_count": null,
   "id": "dddd6daa-885a-4c21-ab8a-03dae7b83299",
   "metadata": {},
   "outputs": [],
   "source": [
    "df.fillna(0, inplace=True)  # 用 0 取代缺失值"
   ]
  },
  {
   "cell_type": "markdown",
   "id": "18be56c4-6caa-47b4-a485-e0ade3e5d19f",
   "metadata": {},
   "source": [
    "刪除含缺失值的列"
   ]
  },
  {
   "cell_type": "code",
   "execution_count": null,
   "id": "88c5cf8b-df65-45bc-8b1c-33b38da3ff0a",
   "metadata": {},
   "outputs": [],
   "source": [
    "df.dropna(inplace=True)"
   ]
  },
  {
   "cell_type": "markdown",
   "id": "a5338602-7b81-413c-b5c7-e20e325f8c86",
   "metadata": {},
   "source": [
    "7. 資料聚合與分組"
   ]
  },
  {
   "cell_type": "raw",
   "id": "d357eeaf-d7bd-4c7f-8cd8-476f22a16ff8",
   "metadata": {},
   "source": [
    "分組聚合"
   ]
  },
  {
   "cell_type": "code",
   "execution_count": null,
   "id": "cbbdd1eb-f35b-47a6-a78b-03410dfcecff",
   "metadata": {},
   "outputs": [],
   "source": [
    "df.groupby('A').sum()  # 以 'A' 欄位分組並求和"
   ]
  },
  {
   "cell_type": "raw",
   "id": "6cbdac30-8b1c-4d65-8a6e-eaf923a37d72",
   "metadata": {},
   "source": [
    "描述性統計"
   ]
  },
  {
   "cell_type": "code",
   "execution_count": null,
   "id": "2af5a4b4-99ab-4a6f-8bf5-5fc8ca0e82e6",
   "metadata": {},
   "outputs": [],
   "source": [
    "df.describe()  # 提供資料的統計摘要"
   ]
  },
  {
   "cell_type": "raw",
   "id": "700e622a-8d72-4113-920b-a4248c3fc51d",
   "metadata": {},
   "source": [
    "樞紐分析表"
   ]
  },
  {
   "cell_type": "code",
   "execution_count": null,
   "id": "0daae36e-08cf-4d29-9050-fe2481dbcb0b",
   "metadata": {},
   "outputs": [],
   "source": [
    "pd.pivot_table(df, values='B', index='A', columns='C', aggfunc='sum')"
   ]
  },
  {
   "cell_type": "markdown",
   "id": "399550ae-a48e-4945-8210-0281aa2f1bb4",
   "metadata": {},
   "source": [
    "8. 合併與連接"
   ]
  },
  {
   "cell_type": "code",
   "execution_count": null,
   "id": "519f96e7-6a23-4784-8da9-762a7b5fdda1",
   "metadata": {},
   "outputs": [],
   "source": [
    "合併資料表"
   ]
  },
  {
   "cell_type": "code",
   "execution_count": null,
   "id": "bc1b2242-c13f-46c8-a914-ac5468e5f958",
   "metadata": {},
   "outputs": [],
   "source": [
    "pd.merge(df1, df2, on='key_column')"
   ]
  },
  {
   "cell_type": "raw",
   "id": "b49b8c39-c1e5-4867-bc3b-f73f0f2106bf",
   "metadata": {},
   "source": [
    "資料拼接"
   ]
  },
  {
   "cell_type": "code",
   "execution_count": null,
   "id": "e176788c-2ea7-4a45-b45a-369c0a7c630b",
   "metadata": {},
   "outputs": [],
   "source": [
    "pd.concat([df1, df2], axis=0)  # 垂直拼接\n",
    "pd.concat([df1, df2], axis=1)  # 水平拼接"
   ]
  },
  {
   "cell_type": "markdown",
   "id": "99c334c2-2dbf-4620-ab6c-d44860735943",
   "metadata": {},
   "source": [
    "9. 資料轉換"
   ]
  },
  {
   "cell_type": "raw",
   "id": "f3eb97ba-c813-4386-9081-c7f417633a4d",
   "metadata": {},
   "source": [
    "改變資料類型"
   ]
  },
  {
   "cell_type": "code",
   "execution_count": null,
   "id": "28e984cd-6127-41d4-902a-8c8e745a8d23",
   "metadata": {},
   "outputs": [],
   "source": [
    "df['A'] = df['A'].astype(float)"
   ]
  },
  {
   "cell_type": "raw",
   "id": "c66d5bd3-4242-4524-ac71-d73403285756",
   "metadata": {},
   "source": [
    "重塑資料"
   ]
  },
  {
   "cell_type": "code",
   "execution_count": null,
   "id": "4497b9f9-ed9b-407f-bace-08a050cb1d47",
   "metadata": {},
   "outputs": [],
   "source": [
    "df.melt(id_vars=['A'], value_vars=['B', 'C'])"
   ]
  },
  {
   "cell_type": "raw",
   "id": "4ea465c6-7592-463f-b0c8-6e5d97774bb0",
   "metadata": {},
   "source": [
    "建立樞紐表"
   ]
  },
  {
   "cell_type": "code",
   "execution_count": null,
   "id": "b2211205-e8d0-425a-a623-c12efb2add0c",
   "metadata": {},
   "outputs": [],
   "source": [
    "df.pivot(index='A', columns='B', values='C')"
   ]
  },
  {
   "cell_type": "markdown",
   "id": "8681048c-794a-401f-9d17-abeff512a994",
   "metadata": {},
   "source": [
    "10. 時間序列處理"
   ]
  },
  {
   "cell_type": "raw",
   "id": "dc27a74c-6da1-4a02-8009-eb1496c1ec45",
   "metadata": {},
   "source": [
    "轉換為日期型別"
   ]
  },
  {
   "cell_type": "code",
   "execution_count": null,
   "id": "fa1074e9-6a8e-44ec-a881-efcb53ce4a79",
   "metadata": {},
   "outputs": [],
   "source": [
    "df['date'] = pd.to_datetime(df['date'])"
   ]
  },
  {
   "cell_type": "raw",
   "id": "75148686-e46a-4b26-8148-ef15ee7d7a4f",
   "metadata": {},
   "source": [
    "設置時間索引"
   ]
  },
  {
   "cell_type": "code",
   "execution_count": null,
   "id": "bcb487f2-dd9c-4e46-ade7-f5c5996801a2",
   "metadata": {},
   "outputs": [],
   "source": [
    "df.set_index('date', inplace=True)"
   ]
  },
  {
   "cell_type": "raw",
   "id": "e90b581d-7160-4d1a-ba1a-b2335a98863e",
   "metadata": {},
   "source": [
    "重採樣"
   ]
  },
  {
   "cell_type": "code",
   "execution_count": null,
   "id": "961d0a95-fa7d-49b9-a15e-19914dd5ad69",
   "metadata": {},
   "outputs": [],
   "source": [
    "df.resample('M').mean()  # 按月重採樣並取平均值"
   ]
  },
  {
   "cell_type": "markdown",
   "id": "ab311c72-5a68-4d8e-a448-b1028d4cc361",
   "metadata": {},
   "source": [
    "11. 可視化"
   ]
  },
  {
   "cell_type": "raw",
   "id": "7bb9dd90-46b0-4e44-9e34-5faa4f357ebb",
   "metadata": {},
   "source": [
    "快速視覺化"
   ]
  },
  {
   "cell_type": "code",
   "execution_count": null,
   "id": "29147e47-2699-43a8-9937-514724d2e4e6",
   "metadata": {},
   "outputs": [],
   "source": [
    "df.plot()  # 使用 Pandas 內建繪圖功能"
   ]
  },
  {
   "cell_type": "markdown",
   "id": "eb99b8b3-f638-4270-9404-5759fa933eb5",
   "metadata": {},
   "source": [
    "12. 匯出資料至其他格式"
   ]
  },
  {
   "cell_type": "raw",
   "id": "0f685753-515a-45ba-88fc-65b903dcff29",
   "metadata": {},
   "source": [
    "匯出為 Excel"
   ]
  },
  {
   "cell_type": "code",
   "execution_count": null,
   "id": "270c8075-afb9-42c4-b1bf-621056f75bc0",
   "metadata": {},
   "outputs": [],
   "source": [
    "df.to_excel('output.xlsx')"
   ]
  },
  {
   "cell_type": "raw",
   "id": "7e972107-974e-40a0-93f9-c212c9e761aa",
   "metadata": {},
   "source": [
    "匯出為 JSON"
   ]
  },
  {
   "cell_type": "code",
   "execution_count": null,
   "id": "9bef03e9-9c8c-4419-bf31-7ed3610f8d0e",
   "metadata": {},
   "outputs": [],
   "source": [
    "df.to_json('output.json')"
   ]
  },
  {
   "cell_type": "markdown",
   "id": "9a06d3dd-dfdc-4ef1-be2e-7941be63c28e",
   "metadata": {},
   "source": [
    "13. 進階技巧"
   ]
  },
  {
   "cell_type": "markdown",
   "id": "63034683-a29e-4d30-9aca-fdc661458c24",
   "metadata": {},
   "source": [
    "條件選擇"
   ]
  },
  {
   "cell_type": "code",
   "execution_count": null,
   "id": "8a85de4c-0d22-4a5b-9e32-96f9dac03050",
   "metadata": {},
   "outputs": [],
   "source": [
    "df.loc[df['A'] > 1, 'B'] = 0  # 根據條件修改資料"
   ]
  },
  {
   "cell_type": "markdown",
   "id": "67f6ee9c-d7b0-4ca5-9be3-cdf37393b452",
   "metadata": {},
   "source": [
    "適用函數"
   ]
  },
  {
   "cell_type": "code",
   "execution_count": null,
   "id": "23897207-67ab-4fa7-a6bd-a0440be84b48",
   "metadata": {},
   "outputs": [],
   "source": [
    "df['A'] = df['A'].apply(lambda x: x * 2)  # 對欄位應用函數"
   ]
  }
 ],
 "metadata": {
  "kernelspec": {
   "display_name": "Python 3 (ipykernel)",
   "language": "python",
   "name": "python3"
  },
  "language_info": {
   "codemirror_mode": {
    "name": "ipython",
    "version": 3
   },
   "file_extension": ".py",
   "mimetype": "text/x-python",
   "name": "python",
   "nbconvert_exporter": "python",
   "pygments_lexer": "ipython3",
   "version": "3.12.5"
  }
 },
 "nbformat": 4,
 "nbformat_minor": 5
}
